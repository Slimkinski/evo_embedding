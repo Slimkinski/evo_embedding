{
  "nbformat": 4,
  "nbformat_minor": 0,
  "metadata": {
    "colab": {
      "provenance": [],
      "gpuType": "T4",
      "toc_visible": true,
      "machine_shape": "hm"
    },
    "kernelspec": {
      "name": "python3",
      "display_name": "Python 3"
    },
    "language_info": {
      "name": "python"
    },
    "accelerator": "GPU"
  },
  "cells": [
    {
      "cell_type": "markdown",
      "source": [
        "# 1. Installs and Dependencies"
      ],
      "metadata": {
        "id": "qoSPmR82syD1"
      }
    },
    {
      "cell_type": "code",
      "source": [
        "# Before we begin, we need to install prodigal, which we will use later\n",
        "# to predict protein-coding genes from our generated DNA sequences.\n",
        "# We install prodigal through conda, which might take a few minutes...\n",
        "!pip install -q condacolab # -> condacolab allows us to install with conda\n",
        "import condacolab\n",
        "condacolab.install()\n",
        "!conda install -c bioconda prodigal"
      ],
      "metadata": {
        "colab": {
          "base_uri": "https://localhost:8080/"
        },
        "id": "MsF7NFc5s0n3",
        "outputId": "5a7a4169-7aae-4e56-a337-f8d9c2106fd9"
      },
      "execution_count": null,
      "outputs": [
        {
          "output_type": "stream",
          "name": "stdout",
          "text": [
            "\u001b[33mWARNING: Running pip as the 'root' user can result in broken permissions and conflicting behaviour with the system package manager. It is recommended to use a virtual environment instead: https://pip.pypa.io/warnings/venv\u001b[0m\u001b[33m\n",
            "\u001b[0m✨🍰✨ Everything looks OK!\n",
            "Channels:\n",
            " - bioconda\n",
            " - conda-forge\n",
            "Platform: linux-64\n",
            "Collecting package metadata (repodata.json): - \b\b\\ \b\b| \b\b/ \b\b- \b\b\\ \b\b| \b\b/ \b\b- \b\bdone\n",
            "Solving environment: | \b\b/ \b\b- \b\bdone\n",
            "\n",
            "\n",
            "==> WARNING: A newer version of conda exists. <==\n",
            "    current version: 23.11.0\n",
            "    latest version: 24.1.2\n",
            "\n",
            "Please update conda by running\n",
            "\n",
            "    $ conda update -n base -c conda-forge conda\n",
            "\n",
            "\n",
            "\n",
            "# All requested packages already installed.\n",
            "\n"
          ]
        }
      ]
    },
    {
      "cell_type": "code",
      "source": [
        "!pip install together accelerate biopython biotite py3Dmol\n",
        "!pip install git+https://github.com/Dao-AILab/flash-attention.git"
      ],
      "metadata": {
        "colab": {
          "base_uri": "https://localhost:8080/"
        },
        "id": "bs3_xaDUs2FF",
        "outputId": "db41bd3c-7d3f-4835-8ffa-cf0f861a2db2"
      },
      "execution_count": null,
      "outputs": [
        {
          "output_type": "stream",
          "name": "stdout",
          "text": [
            "Requirement already satisfied: together in /usr/local/lib/python3.10/site-packages (0.2.11)\n",
            "Requirement already satisfied: accelerate in /usr/local/lib/python3.10/site-packages (0.28.0)\n",
            "Requirement already satisfied: biopython in /usr/local/lib/python3.10/site-packages (1.83)\n",
            "Requirement already satisfied: biotite in /usr/local/lib/python3.10/site-packages (0.39.0)\n",
            "Requirement already satisfied: py3Dmol in /usr/local/lib/python3.10/site-packages (2.1.0)\n",
            "Requirement already satisfied: aiohttp<4.0.0,>=3.7.4 in /usr/local/lib/python3.10/site-packages (from together) (3.9.3)\n",
            "Requirement already satisfied: pydantic<3.0.0,>=2.5.0 in /usr/local/lib/python3.10/site-packages (from together) (2.6.4)\n",
            "Requirement already satisfied: requests<3.0.0,>=2.31.0 in /usr/local/lib/python3.10/site-packages (from together) (2.31.0)\n",
            "Requirement already satisfied: sseclient-py<2.0.0,>=1.7.2 in /usr/local/lib/python3.10/site-packages (from together) (1.8.0)\n",
            "Requirement already satisfied: tabulate<0.10.0,>=0.9.0 in /usr/local/lib/python3.10/site-packages (from together) (0.9.0)\n",
            "Requirement already satisfied: tqdm<5.0.0,>=4.66.1 in /usr/local/lib/python3.10/site-packages (from together) (4.66.1)\n",
            "Requirement already satisfied: typer<0.10.0,>=0.9.0 in /usr/local/lib/python3.10/site-packages (from together) (0.9.0)\n",
            "Requirement already satisfied: numpy>=1.17 in /usr/local/lib/python3.10/site-packages (from accelerate) (1.26.4)\n",
            "Requirement already satisfied: packaging>=20.0 in /usr/local/lib/python3.10/site-packages (from accelerate) (23.2)\n",
            "Requirement already satisfied: psutil in /usr/local/lib/python3.10/site-packages (from accelerate) (5.9.8)\n",
            "Requirement already satisfied: pyyaml in /usr/local/lib/python3.10/site-packages (from accelerate) (6.0.1)\n",
            "Requirement already satisfied: torch>=1.10.0 in /usr/local/lib/python3.10/site-packages (from accelerate) (2.2.1)\n",
            "Requirement already satisfied: huggingface-hub in /usr/local/lib/python3.10/site-packages (from accelerate) (0.21.4)\n",
            "Requirement already satisfied: safetensors>=0.3.1 in /usr/local/lib/python3.10/site-packages (from accelerate) (0.4.2)\n",
            "Requirement already satisfied: msgpack>=0.5.6 in /usr/local/lib/python3.10/site-packages (from biotite) (1.0.8)\n",
            "Requirement already satisfied: networkx>=2.0 in /usr/local/lib/python3.10/site-packages (from biotite) (3.2.1)\n",
            "Requirement already satisfied: aiosignal>=1.1.2 in /usr/local/lib/python3.10/site-packages (from aiohttp<4.0.0,>=3.7.4->together) (1.3.1)\n",
            "Requirement already satisfied: attrs>=17.3.0 in /usr/local/lib/python3.10/site-packages (from aiohttp<4.0.0,>=3.7.4->together) (23.2.0)\n",
            "Requirement already satisfied: frozenlist>=1.1.1 in /usr/local/lib/python3.10/site-packages (from aiohttp<4.0.0,>=3.7.4->together) (1.4.1)\n",
            "Requirement already satisfied: multidict<7.0,>=4.5 in /usr/local/lib/python3.10/site-packages (from aiohttp<4.0.0,>=3.7.4->together) (6.0.5)\n",
            "Requirement already satisfied: yarl<2.0,>=1.0 in /usr/local/lib/python3.10/site-packages (from aiohttp<4.0.0,>=3.7.4->together) (1.9.4)\n",
            "Requirement already satisfied: async-timeout<5.0,>=4.0 in /usr/local/lib/python3.10/site-packages (from aiohttp<4.0.0,>=3.7.4->together) (4.0.3)\n",
            "Requirement already satisfied: annotated-types>=0.4.0 in /usr/local/lib/python3.10/site-packages (from pydantic<3.0.0,>=2.5.0->together) (0.6.0)\n",
            "Requirement already satisfied: pydantic-core==2.16.3 in /usr/local/lib/python3.10/site-packages (from pydantic<3.0.0,>=2.5.0->together) (2.16.3)\n",
            "Requirement already satisfied: typing-extensions>=4.6.1 in /usr/local/lib/python3.10/site-packages (from pydantic<3.0.0,>=2.5.0->together) (4.10.0)\n",
            "Requirement already satisfied: charset-normalizer<4,>=2 in /usr/local/lib/python3.10/site-packages (from requests<3.0.0,>=2.31.0->together) (3.3.2)\n",
            "Requirement already satisfied: idna<4,>=2.5 in /usr/local/lib/python3.10/site-packages (from requests<3.0.0,>=2.31.0->together) (3.6)\n",
            "Requirement already satisfied: urllib3<3,>=1.21.1 in /usr/local/lib/python3.10/site-packages (from requests<3.0.0,>=2.31.0->together) (2.1.0)\n",
            "Requirement already satisfied: certifi>=2017.4.17 in /usr/local/lib/python3.10/site-packages (from requests<3.0.0,>=2.31.0->together) (2024.2.2)\n",
            "Requirement already satisfied: filelock in /usr/local/lib/python3.10/site-packages (from torch>=1.10.0->accelerate) (3.13.1)\n",
            "Requirement already satisfied: sympy in /usr/local/lib/python3.10/site-packages (from torch>=1.10.0->accelerate) (1.12)\n",
            "Requirement already satisfied: jinja2 in /usr/local/lib/python3.10/site-packages (from torch>=1.10.0->accelerate) (3.1.3)\n",
            "Requirement already satisfied: fsspec in /usr/local/lib/python3.10/site-packages (from torch>=1.10.0->accelerate) (2024.3.1)\n",
            "Requirement already satisfied: nvidia-cuda-nvrtc-cu12==12.1.105 in /usr/local/lib/python3.10/site-packages (from torch>=1.10.0->accelerate) (12.1.105)\n",
            "Requirement already satisfied: nvidia-cuda-runtime-cu12==12.1.105 in /usr/local/lib/python3.10/site-packages (from torch>=1.10.0->accelerate) (12.1.105)\n",
            "Requirement already satisfied: nvidia-cuda-cupti-cu12==12.1.105 in /usr/local/lib/python3.10/site-packages (from torch>=1.10.0->accelerate) (12.1.105)\n",
            "Requirement already satisfied: nvidia-cudnn-cu12==8.9.2.26 in /usr/local/lib/python3.10/site-packages (from torch>=1.10.0->accelerate) (8.9.2.26)\n",
            "Requirement already satisfied: nvidia-cublas-cu12==12.1.3.1 in /usr/local/lib/python3.10/site-packages (from torch>=1.10.0->accelerate) (12.1.3.1)\n",
            "Requirement already satisfied: nvidia-cufft-cu12==11.0.2.54 in /usr/local/lib/python3.10/site-packages (from torch>=1.10.0->accelerate) (11.0.2.54)\n",
            "Requirement already satisfied: nvidia-curand-cu12==10.3.2.106 in /usr/local/lib/python3.10/site-packages (from torch>=1.10.0->accelerate) (10.3.2.106)\n",
            "Requirement already satisfied: nvidia-cusolver-cu12==11.4.5.107 in /usr/local/lib/python3.10/site-packages (from torch>=1.10.0->accelerate) (11.4.5.107)\n",
            "Requirement already satisfied: nvidia-cusparse-cu12==12.1.0.106 in /usr/local/lib/python3.10/site-packages (from torch>=1.10.0->accelerate) (12.1.0.106)\n",
            "Requirement already satisfied: nvidia-nccl-cu12==2.19.3 in /usr/local/lib/python3.10/site-packages (from torch>=1.10.0->accelerate) (2.19.3)\n",
            "Requirement already satisfied: nvidia-nvtx-cu12==12.1.105 in /usr/local/lib/python3.10/site-packages (from torch>=1.10.0->accelerate) (12.1.105)\n",
            "Requirement already satisfied: triton==2.2.0 in /usr/local/lib/python3.10/site-packages (from torch>=1.10.0->accelerate) (2.2.0)\n",
            "Requirement already satisfied: nvidia-nvjitlink-cu12 in /usr/local/lib/python3.10/site-packages (from nvidia-cusolver-cu12==11.4.5.107->torch>=1.10.0->accelerate) (12.4.99)\n",
            "Requirement already satisfied: click<9.0.0,>=7.1.1 in /usr/local/lib/python3.10/site-packages (from typer<0.10.0,>=0.9.0->together) (8.1.7)\n",
            "Requirement already satisfied: MarkupSafe>=2.0 in /usr/local/lib/python3.10/site-packages (from jinja2->torch>=1.10.0->accelerate) (2.1.5)\n",
            "Requirement already satisfied: mpmath>=0.19 in /usr/local/lib/python3.10/site-packages (from sympy->torch>=1.10.0->accelerate) (1.3.0)\n",
            "\u001b[33mWARNING: Running pip as the 'root' user can result in broken permissions and conflicting behaviour with the system package manager. It is recommended to use a virtual environment instead: https://pip.pypa.io/warnings/venv\u001b[0m\u001b[33m\n",
            "\u001b[0mCollecting git+https://github.com/Dao-AILab/flash-attention.git\n",
            "  Cloning https://github.com/Dao-AILab/flash-attention.git to /tmp/pip-req-build-dg7rpztl\n",
            "  Running command git clone --filter=blob:none --quiet https://github.com/Dao-AILab/flash-attention.git /tmp/pip-req-build-dg7rpztl\n",
            "  Resolved https://github.com/Dao-AILab/flash-attention.git to commit 36587c01cb4390de0a590b2131e3fcc4859ba09c\n",
            "  Running command git submodule update --init --recursive -q\n",
            "  Preparing metadata (setup.py) ... \u001b[?25l\u001b[?25hdone\n",
            "Requirement already satisfied: torch in /usr/local/lib/python3.10/site-packages (from flash-attn==2.5.6) (2.2.1)\n",
            "Requirement already satisfied: einops in /usr/local/lib/python3.10/site-packages (from flash-attn==2.5.6) (0.7.0)\n",
            "Requirement already satisfied: packaging in /usr/local/lib/python3.10/site-packages (from flash-attn==2.5.6) (23.2)\n",
            "Requirement already satisfied: ninja in /usr/local/lib/python3.10/site-packages (from flash-attn==2.5.6) (1.11.1.1)\n",
            "Requirement already satisfied: filelock in /usr/local/lib/python3.10/site-packages (from torch->flash-attn==2.5.6) (3.13.1)\n",
            "Requirement already satisfied: typing-extensions>=4.8.0 in /usr/local/lib/python3.10/site-packages (from torch->flash-attn==2.5.6) (4.10.0)\n",
            "Requirement already satisfied: sympy in /usr/local/lib/python3.10/site-packages (from torch->flash-attn==2.5.6) (1.12)\n",
            "Requirement already satisfied: networkx in /usr/local/lib/python3.10/site-packages (from torch->flash-attn==2.5.6) (3.2.1)\n",
            "Requirement already satisfied: jinja2 in /usr/local/lib/python3.10/site-packages (from torch->flash-attn==2.5.6) (3.1.3)\n",
            "Requirement already satisfied: fsspec in /usr/local/lib/python3.10/site-packages (from torch->flash-attn==2.5.6) (2024.3.1)\n",
            "Requirement already satisfied: nvidia-cuda-nvrtc-cu12==12.1.105 in /usr/local/lib/python3.10/site-packages (from torch->flash-attn==2.5.6) (12.1.105)\n",
            "Requirement already satisfied: nvidia-cuda-runtime-cu12==12.1.105 in /usr/local/lib/python3.10/site-packages (from torch->flash-attn==2.5.6) (12.1.105)\n",
            "Requirement already satisfied: nvidia-cuda-cupti-cu12==12.1.105 in /usr/local/lib/python3.10/site-packages (from torch->flash-attn==2.5.6) (12.1.105)\n",
            "Requirement already satisfied: nvidia-cudnn-cu12==8.9.2.26 in /usr/local/lib/python3.10/site-packages (from torch->flash-attn==2.5.6) (8.9.2.26)\n",
            "Requirement already satisfied: nvidia-cublas-cu12==12.1.3.1 in /usr/local/lib/python3.10/site-packages (from torch->flash-attn==2.5.6) (12.1.3.1)\n",
            "Requirement already satisfied: nvidia-cufft-cu12==11.0.2.54 in /usr/local/lib/python3.10/site-packages (from torch->flash-attn==2.5.6) (11.0.2.54)\n",
            "Requirement already satisfied: nvidia-curand-cu12==10.3.2.106 in /usr/local/lib/python3.10/site-packages (from torch->flash-attn==2.5.6) (10.3.2.106)\n",
            "Requirement already satisfied: nvidia-cusolver-cu12==11.4.5.107 in /usr/local/lib/python3.10/site-packages (from torch->flash-attn==2.5.6) (11.4.5.107)\n",
            "Requirement already satisfied: nvidia-cusparse-cu12==12.1.0.106 in /usr/local/lib/python3.10/site-packages (from torch->flash-attn==2.5.6) (12.1.0.106)\n",
            "Requirement already satisfied: nvidia-nccl-cu12==2.19.3 in /usr/local/lib/python3.10/site-packages (from torch->flash-attn==2.5.6) (2.19.3)\n",
            "Requirement already satisfied: nvidia-nvtx-cu12==12.1.105 in /usr/local/lib/python3.10/site-packages (from torch->flash-attn==2.5.6) (12.1.105)\n",
            "Requirement already satisfied: triton==2.2.0 in /usr/local/lib/python3.10/site-packages (from torch->flash-attn==2.5.6) (2.2.0)\n",
            "Requirement already satisfied: nvidia-nvjitlink-cu12 in /usr/local/lib/python3.10/site-packages (from nvidia-cusolver-cu12==11.4.5.107->torch->flash-attn==2.5.6) (12.4.99)\n",
            "Requirement already satisfied: MarkupSafe>=2.0 in /usr/local/lib/python3.10/site-packages (from jinja2->torch->flash-attn==2.5.6) (2.1.5)\n",
            "Requirement already satisfied: mpmath>=0.19 in /usr/local/lib/python3.10/site-packages (from sympy->torch->flash-attn==2.5.6) (1.3.0)\n",
            "\u001b[33mWARNING: Running pip as the 'root' user can result in broken permissions and conflicting behaviour with the system package manager. It is recommended to use a virtual environment instead: https://pip.pypa.io/warnings/venv\u001b[0m\u001b[33m\n",
            "\u001b[0m"
          ]
        }
      ]
    },
    {
      "cell_type": "code",
      "source": [
        "import os\n",
        "import numpy as np\n",
        "import matplotlib.pyplot as plt\n",
        "import torch\n",
        "#import py3Dmol # -> used to visualize protein structures\n",
        "import together # -> to call the API\n",
        "\n",
        "# ↓ Tools to process DNA and protein data\n",
        "import biotite.structure.io as bsio\n",
        "from Bio import SeqIO\n",
        "from Bio.Seq import Seq\n",
        "from Bio.SeqRecord import SeqRecord\n",
        "# ↓ To load ESMFold from HuggingFace, which we use to predict protein foldings\n",
        "from transformers import (\n",
        "  AutoTokenizer,\n",
        "  EsmForProteinFolding,\n",
        "  set_seed\n",
        ")\n",
        "from torch.cuda.amp import autocast, GradScaler\n",
        "\n",
        "from model import StripedHyena_embedding\n",
        "\n",
        "# Let's also enable TensorFloat32 computation for some speedups:\n",
        "torch.backends.cuda.matmul.allow_tf32 = True"
      ],
      "metadata": {
        "id": "4fbA5XUAs3Mc"
      },
      "execution_count": null,
      "outputs": []
    },
    {
      "cell_type": "code",
      "source": [
        "pip install biopython"
      ],
      "metadata": {
        "colab": {
          "base_uri": "https://localhost:8080/"
        },
        "id": "yk8UGr2ANsZy",
        "outputId": "9c75d4b5-f24d-4c54-eafa-abb97a37a03f"
      },
      "execution_count": null,
      "outputs": [
        {
          "output_type": "stream",
          "name": "stdout",
          "text": [
            "Requirement already satisfied: biopython in /usr/local/lib/python3.10/site-packages (1.83)\n",
            "Requirement already satisfied: numpy in /usr/local/lib/python3.10/site-packages (from biopython) (1.26.4)\n",
            "\u001b[33mWARNING: Running pip as the 'root' user can result in broken permissions and conflicting behaviour with the system package manager. It is recommended to use a virtual environment instead: https://pip.pypa.io/warnings/venv\u001b[0m\u001b[33m\n",
            "\u001b[0m"
          ]
        }
      ]
    },
    {
      "cell_type": "code",
      "source": [
        "# Setup GPU\n",
        "print(torch.cuda.is_available())  # Should return True if a GPU is available\n",
        "device = torch.device('cuda' if torch.cuda.is_available() else 'cpu')"
      ],
      "metadata": {
        "colab": {
          "base_uri": "https://localhost:8080/"
        },
        "id": "6-LxxCbVIsbh",
        "outputId": "09767d2b-a9f3-4e38-fa4f-1e6815c8f76b"
      },
      "execution_count": null,
      "outputs": [
        {
          "output_type": "stream",
          "name": "stdout",
          "text": [
            "True\n"
          ]
        }
      ]
    },
    {
      "cell_type": "markdown",
      "source": [
        "#2. Set up model"
      ],
      "metadata": {
        "id": "FygDG9fctBlS"
      }
    },
    {
      "cell_type": "markdown",
      "source": [
        "## Download model"
      ],
      "metadata": {
        "id": "BfDOdChdt4TO"
      }
    },
    {
      "cell_type": "code",
      "source": [
        "# Model is manualled downloaded from Huggingface, load it locally through Google Drive\n",
        "from google.colab import drive\n",
        "import json\n",
        "from configuration_hyena import StripedHyenaConfig\n",
        "\n",
        "drive.mount('/content/drive')\n",
        "model_path = '/content/drive/My Drive/Evo/pytorch_model.pt'\n",
        "config_path = '/content/drive/My Drive/Evo/config.json'\n",
        "config = StripedHyenaConfig.from_original_config(config_path)"
      ],
      "metadata": {
        "colab": {
          "base_uri": "https://localhost:8080/"
        },
        "id": "MV3uEHwcxvDk",
        "outputId": "cfb431a2-2f85-4d5b-cdf8-4f12e51aacdf"
      },
      "execution_count": null,
      "outputs": [
        {
          "output_type": "stream",
          "name": "stdout",
          "text": [
            "Drive already mounted at /content/drive; to attempt to forcibly remount, call drive.mount(\"/content/drive\", force_remount=True).\n",
            "None\n"
          ]
        }
      ]
    },
    {
      "cell_type": "code",
      "source": [
        "# Load embedding model\n",
        "# Initiate model\n",
        "Evo_embedding_model = StripedHyena_embedding(config)\n",
        "\n",
        "# Match keys\n",
        "# get keys in the original model\n",
        "original_state_dict = torch.load(model_path, map_location='cpu')\n",
        "\n",
        "# Remove the unused keys\n",
        "keys_to_remove = [\"unembed.weight\"]\n",
        "\n",
        "for key in keys_to_remove:\n",
        "    original_state_dict.pop(key, None)\n",
        "\n",
        "# Load the modified state dict\n",
        "Evo_embedding_model.load_state_dict(original_state_dict, strict=False)\n",
        "Evo_embedding_model.eval()  # Set the model to evaluation mode\n",
        "Evo_embedding_model.to(device) # Send model to GPU\n"
      ],
      "metadata": {
        "id": "LPt6mIcwtJp-"
      },
      "execution_count": null,
      "outputs": []
    },
    {
      "cell_type": "markdown",
      "source": [
        "#3. Get embeddings - short sequence"
      ],
      "metadata": {
        "id": "rEJXpwEotPoi"
      }
    },
    {
      "cell_type": "markdown",
      "source": [
        "## Tokenize"
      ],
      "metadata": {
        "id": "S0UungMaNJi5"
      }
    },
    {
      "cell_type": "code",
      "source": [
        "tokenizer = ByteTokenizer()\n",
        "\n",
        "# Example DNA sequence\n",
        "dna_sequence = \"atgattgcacgcatcaacgactggtttgaggaagtgaaagctaagcgcggcaagcgcccgacagccttccagttcctgcaagaaatcaagccggaagccgtagcgtacatcaccattaagaccactctggcttgcctaaccagtgctgacaatacaaccgttcaggctgtagcaa\"\n",
        "\n",
        "# Tokenize the DNA sequence\n",
        "encoded = tokenizer.encode_plus(dna_sequence, return_tensors=\"pt\")\n",
        "\n",
        "# Encoded token IDs and attention mask\n",
        "z = encoded[\"input_ids\"].to(device)\n",
        "\n",
        "print(z.shape)\n",
        "print(z.dtype)"
      ],
      "metadata": {
        "id": "UAAdctN87NCj",
        "colab": {
          "base_uri": "https://localhost:8080/"
        },
        "outputId": "7d0d7266-1d02-495a-dc46-629b0a89c452"
      },
      "execution_count": null,
      "outputs": [
        {
          "output_type": "stream",
          "name": "stdout",
          "text": [
            "torch.Size([1, 175])\n",
            "torch.int64\n"
          ]
        }
      ]
    },
    {
      "cell_type": "markdown",
      "source": [
        "## Get embedding"
      ],
      "metadata": {
        "id": "-s_FyCbyuMvU"
      }
    },
    {
      "cell_type": "code",
      "source": [
        "# Get embedding\n",
        "embeddings = Evo_embedding_model(z)[0].to('cpu')\n",
        "\n",
        "print(embeddings)\n",
        "print(embeddings.shape)"
      ],
      "metadata": {
        "id": "_sj8r4T19PAZ"
      },
      "execution_count": null,
      "outputs": []
    },
    {
      "cell_type": "markdown",
      "source": [
        "#4. Get embeddings - FASTA"
      ],
      "metadata": {
        "id": "9s-j5DcAJp1-"
      }
    },
    {
      "cell_type": "code",
      "source": [
        "# Load fasta file\n",
        "path_fasta = '/content/drive/My Drive/Evo/test_seq.fa'\n",
        "\n",
        "with open(path_fasta, 'r') as fasta:\n",
        "    sequence_record = next(SeqIO.parse(fasta, 'fasta'))\n",
        "    dna_sequence = str(sequence_record.seq)\n",
        "print(dna_sequence)"
      ],
      "metadata": {
        "colab": {
          "base_uri": "https://localhost:8080/"
        },
        "id": "YvBKfk5XJSGN",
        "outputId": "c82dccff-f972-4f00-83b2-1ac8b0045f0a"
      },
      "execution_count": null,
      "outputs": [
        {
          "output_type": "stream",
          "name": "stdout",
          "text": [
            "ttgagatcctttttttctgcgcgtaatctgctgcttgcaaacaaaaaaaccaccgctaccagcggtggtttgtttgccggatcaagagctaccaactctttttccgaaggtaactggcttcagcagagcgcagataccaaatactgttcttctagtgtagccgtagttaggccaccacttcaagaactctgtagcaccgcctacatacctcgctctgctaatcctgttaccagtggctgctgccagtggcgataagtcgtgtcttaccgggttggactcaagacgatagttaccggataaggcgcagcggtcgggctgaacggggggttcgtgcacacagcccagcttggagcgaacgacctacaccgaactgagatacctacagcgtgagctatgagaaagcgccacgcttcccgaagggagaaaggcggacaggtatccggtaagcggcagggtcggaacaggagagcgcacgagggagcttccagggggaaacgcctggtatctttatagtcctgtcgggtttcgccacctctgacttgagcgtcgatttttgtgatgctcgtcaggggggcggagcctatggaaaaacgccagcaacgcggcctttttacggttcctggccttttgctggccttttgctcacatgttctttcctgcgttatcccctgattctgtggataaccgtattaccgcctttgagtgagctgataccgctcgccgcagccgaacgaccgagcgcagcgagtcagtgagcgaggaagcggaagagcgcccaatacgcatgcttaagttattggtatgactggttttaagcgcaaaaaaagttgctttttcgtacctattaatgtatcgttagaaaaccgactgtaaaaagtacagtcggcattatctcatattataaaagccagtcattaggcctatctgacaattcctgaatagagttcataaacaatcctgcatgataaccatcacaaacagaatgatgtacctgtaaagatagcggtaaatatattgaattacctttattaatgaattttcctgctgtaataatgggtagaaggtaattactattattattgatatttaagttaaacccagtaaatgaagtccaaggaataatagaaagagaaaaagcattttcaggtataggtgttttgggaaacaatttccccgaaccattatatttctctacatcagaaaggtataaatcataaaactctttgaagtcattctttacaggagtccaaataccagagaatgttttagatacaccatcaaaaattatataaagtggctctaacttatcccaataacctaactctccgtcgctattgtaaccagttctaaaagctgtatttgagtttatcacccttgtcactaagaaaataaatgcagggtaaaatttatatccttcttgttttatgtttcggtataaaacactaatatcaatttctgtggttatactaaaagtcgtttgttggttcaaataatgattaaatatctcttttctcttccaattgtctaaatcaattttattaaagttcatttgatatgcctcctaaatttttatctaaagtgaatttaggaggcttacttgtctgctttcttcattagaatcaatccttttttaaaagtcaatattactgtaacataaatatatattttaaaaatatcccactttatccaattttcgtttgttgaactaatgggtgctttagttgaagaataaaagaccacattaaaaaatgtggtcttttgtgtttttttaaaggatttgagcgtagcgaaaaatccttttctttcttatcttgataataagggtaactattgccgtcgtccattccgacagcatcgccagtcactatggcgtgctgctagcgccattcgccattcaggctgcgcaactgttgggaagggcgatcggtgcgggcctcttcgctattacgccagctggcgaaagggggatgtgctgcaaggcgattaagttgggtaacgccagggttttcccagtcacgacgttgtaaaacgacggccagtgaattcgagctcaggccttaactcacattaattgcgttgcgctcactgcccgctttccagtcgggaaacctgtcgtgccagctgcattaatgaatcggccaacgcgcggggagaggcggtttgcgtattgggcgccagggtggtttttcttttcaccagtgagacgggcaacagctgattgcccttcaccgcctggccctgagagagttgcagcaagcggtccacgctggtttgccccagcaggcgaaaatcctgtttgatggtggttaacggcgggatataacatgagctgtcttcggtatcgtcgtatcccactaccgagatatccgcaccaacgcgcagcccggactcggtaatggcgcgcattgcgcccagcgccatctgatcgttggcaaccagcatcgcagtgggaacgatgccctcattcagcatttgcatggtttgttgaaaaccggacatggcactccagtcgccttcccgttccgctatcggctgaatttgattgcgagtgagatatttatgccagccagccagacgcagacgcgccgagacagaacttaatgggcccgctaacagcgcgatttgctggtgacccaatgcgaccagatgctccacgcccagtcgcgtaccgtcttcatgggagaaaataatactgttgatgggtgtctggtcagagacatcaagaaataacgccggaacattagtgcaggcagcttccacagcaatggcatcctggtcatccagcggatagttaatgatcagcccactgacgcgttgcgcgagaagattgtgcaccgccgttttacaggcttcgacgccgcttcgttctaccatcgacaccaccacgctggcacccagttgatcggcgcgagatttaatcgccgcgacaatttgcgacggcgcgtgcagggccagactggaggtggcaacgccaatcagcaacgactgtttgcccgccagttgttgtgccacgcggttgggaatgtaattcagctccgccatcgccgcttccactttttcccgcgttttcgcagaaacgtggctggcctggttcaccacgcgggaaacggtctgataagagacaccggcatactctgcgacatcgtataacgttactggtttcatcaaaatcgtctccctccgtttgaatatttgattgatcgtaaccagatgaagcactctttccactatccctacagtgttatggcttgaacaatcacgaaacaataattggtacgtacgatctttcagccgactcaaacatcaaatcttacaaatgtagtctttgaaagtattacatatgtaagatttaaatgcaaccgttttttcggaaggaaatgatgacctctaatacgactcactataggggaattgtgagcggataacaattcccctctagaattaaagaggagaaagctaccgcatgcgtaaaggagaagaacttttcactggagttgtcccaattcttgttgaattagatggtgatgttaatgggcacaaattttctgtcagtggagagggtgaaggtgatgcaacatacggaaaacttacccttaaatttatttgcactactggaaaactacctgttccatggccaacacttgtcactactttgacttggggtgttcaatgcttttcaagatacccagatcatatgaaacggcatgactttttcaagagtgccatgcccgaaggttatgtacaggaaagaactatatttttcaaagatgacgggaactacaagacacgtgctgaagtcaagtttgaaggtgatacccttgttaatagaatcgagttaaaaggtattgattttaaagaagatggaaacattcttggacacaaattggaatacaactatatttcacacaatgtatacatcactgcagacaaacaaaagaatggaatcaaagctcatttcaaaattagacacaacattgaagatggaagcgttcaactagcagaccattatcaacaaaatactccaattggcgatggccctgtccttttaccagacaaccattacctgtccacacaatctgccctttcgaaagatcccaacgaaaagagagaccacatggtccttcttgagtttgtaacagctgctgggattacacatggcatggatgaactatacaaataagagctccattagcatcgctagcattaaagaggagaaagctaccgcatgaacacgattaacatcgctaagaacgacttctctgacatcgaactggctgctatcccgttcaacactctggctgaccattacggtgagcgtttagctcgcgaacagttggcccttgagcatgagtcttacgagatgggtgaagcacgcttccgcaagatgtttgagcgtcaacttaaagctgtgaggttgcggataacgctgccgccaagcctctcatcactaccctactccctaagatgattgcacgcatcaacgactggtttgaggaagtgaaagctaagcgcggcaagcgcccgacagccttccagttcctgcaagaaatcaagccggaagccgtagcgtacatcaccattaagaccactctggcttgcctaaccagtgctgacaatacaaccgttcaggctgtagcaagcgcaatcggtcgggccattgaggacgaggctcgcttcggtcgtatccgtgaccttgaagctaagcacttcaagaaaaacgttgaggaacaactcaacaagcgcgtagggcacgtctacaagaaagcatttatgcaagttgtcgaggctgacatgctctctaagggtctactcggtggcgaggcgtggtcttcgtggcataaggaagactctattcatgtaggagtacgctgcatcgagatgctcattgagtcaaccggaatggttagcttacaccgccaaaatgctggcgtagtaggtcaagactctgagactatcgaactcgcacctgaatacgctgaggctatcgcaacccgtgcaggtgcgctggctggcatctctccgatgttccaaccttgcgtagttcctcctaagccgtggactggcattactggtggtggctattgggctaacggtcgtcgtcctctggcgctggtgcgtactcacagtaagaaagcactgatgcgctacgaagacgtttacatgcctgaggtgtacaaagcgattaacattgcgcaaaacaccgcatggaaaatcaacaagaaagtcctagcggtcgccaacgtaatcaccaagtggaagcattgtccggtcgaggacatccctgcgattgagcgtgaagaactcccgatgaaaccggaagacatcgacatgaatcctgaggctctcaccgcgtggaaacgtgctgccgctgctgtgtaccgcaaggacaaggctcgcaagtctcgccgtatcagccttgagttcatgcttgagcaagccaataagtttgctaaccataaggccatctggttcccttacaacatggactggcgcggtcgtgtttacgctgtgtcaatgttcaacccgcaaggtaacgatatgaccaaaggactgcttacgctggcgaaaggtaaaccaatcggtaaggaaggttactactggctgaaaatccacggtgcaaactgtgcgggtgtcgataaggttccgttccctgagcgcatcaagttcattgaggaaaaccacgagaacatcatggcttgcgctaagtctccactggagaacacttggtgggctgagcaagattctccgttctgcttccttgcgttctgctttgagtacgctggggtacagcaccacggcctgagctataactgctcccttccgctggcgtttgacgggtcttgctctggcatccagcacttctccgcgatgctccgagatgaggtaggtggtcgcgcggttaacttgcttcctagtgaaaccgttcaggacatctacgggattgttgctaagaaagtcaacgagattctacaagcagacgcaatcaatgggaccgataacgaagtagttaccgtgaccgatgagaacactggtgaaatctctgagaaagtcaagctgggcactaaggcactggctggtcaatggctggcttacggtgttactcgcagtgtgactaagcgttcagtcatgacgctggcttacgggtccaaagagttcggcttccgtcaacaagtgctggaagataccattcagccagctattgattccggcaagggtctgatgttcactcagccgaatcaggctgctggatacatggctaagctgatttgggaatctgtgagcgtgacggtggtagctgcggttgaagcaatgaactggcttaagtctgctgctaagctgctggctgctgaggtcaaagataagaagactggagagattcttcgcaagcgttgcgctgtgcattgggtaactcctgatggtttccctgtgtggcaggaatacaagaagcctattcagacgcgcttgaacctgatgttcctcggtcagttccgcttacagcctaccattaacaccaacaaagatagcgagattgatgcacacaaacaggagtctggtatcgctcctaactttgtacacagccaagacggtagccaccttcgtaagactgtagtgtgggcacacgagaagtacggaatcgaatcttttgcactgattcacgactccttcggtaccattccggctgacgctgcgaacctgttcaaagcagtgcgcgaaactatggttgacacatatgagtcttgtgatgtactggctgatttctacgaccagttcgctgaccagttgcacgagtctcaattggacaaaatgccagcacttccggctaaaggtaacttgaacctccgtgacatcttagagtcggacttcgcgttcgcgtaactcgaggatccggctgctaacaaagcccgaaaggaagctgagttggctgctgccaccgctgagcaataactagcataaccccttggggcctctaaacgggtcttgaggggttttttgctgaaaggaggaactatatccggatatcccgcaagaggcccggcagtaccggcataaccaagcctatgcctacagcatccagggtgacggtgccgaggatgacgatgagcgcattatccctaggtctagggcggcggatttgtcctactcaggagagcgttcaccgacaaacaacagataaaacgaaaggcccagtctttcgactgagcctttcgttttatttgatgcctctagattaattaattaagcggccgcgaagcttaacaacattaatttaagactgcttttttaaactgttcattaataggcatagacaatacaaccgatttagtatcacctaatacatgaatttctttgtctccaatacgatgacaaggaactttaatacgctttaaaaatcgctctattgctgttgatgttactgttacatattctgtaataccttgactaacagcgtgtttatatatagcttcaaatagtttcattgtaatttcactagcagagttatttatctttgagctatttttacctacagcaaaacgacttaattcgactatattaggatctttgggagcactctgttgaccaagcaattcaggaaaaacacttttcagcatataatcacctgttgtaggtaataaacgccagcatccacttacattttcagtatcatcacaagcataaatatattctgcatttgagttatcatactcatctgattcaaggttattttctacaactaagtcccactcaagtctttgcttaaacacttgataacgaagacttagaatacctttatactcctccgatggaattgccaaaaaatccgatttttttatcattatagtcataccaacctcccttgcgtttattcggggatcccgtacttaatttttaaagtatgggcaatcaattgctcctgttaaaattgctttagaaatactttggcagcggtttgttgtattgagtttcatttgcgcattggttaaatggaaagtgacagtacgctcactgcagcctaatatttttgaaatatcccaagagctttttccttcgcatgcccacgctaaacattctttttctcttttggttaaatcgttgtttgatttattatttgctatatttatttttcgataattatcaactagagaaggaacaattaatggtatgttcatacacgcatgtaaaaataaactatctatatagttgtctttttctgaatgtgcaaaactaagcattccgaagccattgttagccgtatgaatagggaaactaaacccagtgataagacctgatgttttcgcttctttaattacatttggagattttttatttacagcattgttttcaaatatattccaattaattggtgaatgattggagttagaataatctactataggatcatattttattaaattagcgtcatcataatattgcctccattttttagggtaattatctagaattgaaatatcagatttaaccatagaatgaggataaatgatcgcgagtaaataatattcacaatgtaccattttagtcatatcagataagcattgattaatatcattattgcttctacaagctttaattttattaattattctgtatgtgtcgtcggcatttatgtttttcatgggtacctttctcctctttaatgaattctatagtgagtcgtattatcatgagtcacactattgtatcgctgggaatacaattacttaacataagcacctgtaggatcgtacaggtttacgcaagaaaatggtttgttatagtcgaataaacgcaagggaggttggtatggtgagcaagggcgaggaggataacatggccatcatcaaggagttcatgcgcttcaaggtgcacatggagggctccgtgaacggccacgagttcgagatcgagggcgagggcgagggccgcccctacgagggcacccagaccgccaagctgaaggtgaccaagggtggccccctgcccttcgcctgggacatcctgtcccctcagttcatgtacggctccaaggcctacgtgaagcaccccgccgacatccccgactacttgaagctgtccttccccgagggcttcaagtgggagcgcgtgatgaacttcgaggacggcggcgtggtgaccgtgacccaggactcctccctgcaggacggcgagttcatctacaaggtgaagctgcgcggcaccaacttcccctccgacggccccgtaatgcagaagaagaccatgggctgggaggcctcctccgagcggatgtaccccgaggacggcgccctgaagggcgagatcaagcagaggctgaagctgaaggacggcggccactacgacgctgaggtcaagaccacctacaaggccaagaagcccgtgcagctgcccggcgcctacaacgtcaacatcaagttggacatcacctcccacaacgaggactacaccatcgtggaacagtacgaacgcgccgagggccgccactccaccggcggcatggacgagctgtacaagtaaaagcttgactagctagcggaaaggaggaaagaaataatggctcgtgtacagtttaaacaacgtgaatctactgacgcaatctttgttcactgctcggctaccaagccaagtcagaatgttggtgtccgtgagattcgccagtggcacaaagagcagggttggctcgatgtgggataccactttatcatcaagcgagacggtactgtggaggcaggacgagatgagatggctgtaggctctcacgctaagggttacaaccacaactctatcggcgtctgccttgttggtggtatcgacgataaaggtaagttcgacgctaactttacgccagcccaaatgcaatcccttcgctcactgcttgtcacactgctggctaagtacgaaggcgctgtgcttcgcgcccatcatgaggtggcgccgaaggcttgcccttcgttcgaccttaagcgttggtgggagaagaacgaactggtcacttctgaccgtggataattaattgaactcactaaagggagaccacagcggtttccctttgttcgcattggaggtcaaataatgcgcaagtcttaataactagcataaccccttggggcctctaaacgggtcttgaggggttttttgctgaaaggaggaactatatccggattaataagcttggcactggcctaatatcggcttattaggaatagtccctgtactaataaaatcaggtggatcagttgatcagtatattttggacgaagctcggaaagaatttggagatgacttgcttaattccacaattaaattaagggaaagaataaagcgatttgatgttcaaggaatcacggaagaagatactcatgataaagaagctctaaaactattcaataaccttacaatggaattgatcgaaagggtggaaggttaatggtacgaaaattaggggatctacctagaaagccacaaggcgataggtcaagcttaaagaacccttacatggatcttacagattctgaaagtaaagaaacaacagaggttaaacaaacagaaccaaaaagaaaaaaagcattgttgaaaacaatgaaagttgatgtttcaatccataataagattaaatcgctgcacgaaattctggcagcatccgaagggaattcatattacttagaggatactattgagagagctattgataagatggttgagacattacctgagagccaaaaaactttttatgaatatgaattaaaaaaaagaaccaacaaaggctgagacagactccaaacgagtctgtttttttaaaaaaaatattaggagcattgaatatatattagagaattaagaaagacatgggaataaaaatattttaaatccagtaaaaatatgataagattatttcagaatatgaagaactctgtttgtttttgatgaaaaaacaaacaaaaaaaatccacctaacggaatctcaatttaactaacagcggccaaactgagaagttaaatttgagaaggggaaaaggcggatttatacttgtatttaactatctccattttaacattttattaaaccccatacaagtgaaaatcctcttttacactgttcctttaggtgatcgcggagggacattatgagtgaagtaaacctaaaaggaaatacagatgaattagtgtattatcgacagcaaaccactggaaataaaatcgccaggaagagaatcaaaaaagggaaagaagaagtttattatgttgctgaaacggaagagaagatatggacagaagagcaaataaaaaacttttctttagacaaatttggtacgcatataccttacatagaaggtcattatacaatcttaaataattacttctttgatttttggggctattttttaggtgctgaaggaattgcgctctatgctcacctaactcgttatgcatacggcagcaaagacttttgctttcctagtctacaaacaatcgctaaaaaaatggacaagactcctgttacagttagaggctacttgaaactgcttgaaaggtacggttttatttggaaggtaaacgtccgtaataaaaccaaggataacacagaggaatccccgatttttaagattagacgtaaggttcctttgctttcagaagaacttttaaatggaaaccctaatattgaaattccagatgacgaggaagcacatgtaaagaaggctttaaaaaaggaaaaagagggtcttccaaaggttttgaaaaaagagcacgatgaatttgttaaaaaaatgatggatgagtcagaaacaattaatattccagaggccttacaatatgacacaatgtatgaagatatactcagtaaaggagaaattcgaaaagaaatcaaaaaacaaatacctaatcctacaacatcttttgagagtatatcaatgacaactgaagaggaaaaagtcgacagtactttaaaaagcgaaatgcaaaatcgtgtctctaagccttcttttgatacctggtttaaaaacactaagatcaaaattgaaaataaaaattgtttattacttgtaccgagtgaatttgcatttgaatggattaagaaaagatatttagaaacaattaaaacagtccttgaagaagctggatatgttttcgaaaaaatcgaactaagaaaagtgcaataaactgctgaagtatttcagcagttttttttatttagaaatagtgaaaaaaatataatcagggaggtatcaatatttaatgagtactgatttaaatttatttagactggaattaataattaacacgtagactaattaaaatttaatgagggataaagaggatacaaaaatattaatttcaatccctattaaattttaacaagggggggattaaaatttaattagaggtttatccacaagaaaagaccctaataaaatttttactagggttataacactgattaatttcttaatgggggagggattaaaatttaatgacaaagaaaacaatcttttaagaaaagcttttaaaagataataataaaaagagctttgcgattaagcaaaactctttactttttcattgacattatcaaattcatcgatttcaaattgttgttgtatcataaagttaattctgttttgcacaaccttttcaggaatataaaacacatctgaggcttgttttataaactcagggtcgctaaagtcaatgtaacgtagcatatgatatggtatagcttccacccaagttagcctttctgcttcttctgaatgtttttcatatacttccatcggtatctctaaatgattttcctcatgtagcaaggtatgagcaaaaagtttatggaattgatagttcctctctttttcttcaacttttttatctaaaacaaacactttaacatctgagtcaatgtaagcataagatgtttttccagtcataatttcaatcccaaatcttttagacagaaattctggacgtaaatcttttggtgaaagaatttttttatgtagcaatatatccgatacagcaccttctaaaagcgttggtgaatagggcattttacctatctcctctcattttgtggaataaaaatagtcatattcgtccatctacctatcctattatcgaacagttgaactttttaatcaaggatcagtcctttttttcattattcttaaactgtgctcttaactttaacaactcgatttgtttttccagatatcgagggtaactagcctcgccgatcccgcaagaggcccggcagtcaggtggcacttttcggggaaatgtgcgcggaacccctatttgtttatttttctaaatacattcaaatatgtatccgctcatgagacaataaccctgataaatgcttcaataatattgaaaaaggaagagtatgagtattcaacatttccgtgtcgcccttattcccttttttgcggcattttgccttcctgtttttgctcacccagaaacgctggtgaaagtaaaagatgctgaagatcagttgggtgcacgagtgggttacatcgaactggatctcaacagcggtaagatccttgagagttttcgccccgaagaacgttttccaatgatgagcacttttaaagttctgctatgtggcgcggtattatcccgtattgacgccgggcaagagcaactcggtcgccgcatacactattctcagaatgacttggttgagtactcaccagtcacagaaaagcatcttacggatggcatgacagtaagagaattatgcagtgctgccataaccatgagtgataacactgcggccaacttacttctgacaacgatcggaggaccgaaggagctaaccgcttttttgcacaacatgggggatcatgtaactcgccttgatcgttgggaaccggagctgaatgaagccataccaaacgacgagcgtgacaccacgatgcctgtagcaatggcaacaacgttgcgcaaactattaactggcgaactacttactctagcttcccggcaacaattaatagactggatggaggcggataaagttgcaggaccacttctgcgctcggcccttccggctggctggtttattgctgataaatctggagccggtgagcgtgggtctcgcggtatcattgcagcactggggccagatggtaagccctcccgtatcgtagttatctacacgacggggagtcaggcaactatggatgaacgaaatagacagatcgctgagataggtgcctcactgattaagcattggtaactgtcagaccaagtttactcatatatactttagattgatttaaaacttcatttttaatttaaaaggatctaggtgaagatcctttttgataatctcatgaccaaaatcccttaacgtgagttttcgttccactgagcgtcagaccccgtagaaaagatcaaaggatcttc\n"
          ]
        }
      ]
    },
    {
      "cell_type": "code",
      "source": [
        "tokenizer = ByteTokenizer()\n",
        "encoded = tokenizer.encode_plus(dna_sequence, return_tensors=\"pt\")\n",
        "z = encoded[\"input_ids\"].to(device)\n",
        "print(z.shape)\n",
        "\n",
        "embeddings = Evo_embedding_model(z)[0].to('cpu')  # Your forward pass\n",
        "\n",
        "print(embeddings)\n",
        "print(embeddings.shape)\n"
      ],
      "metadata": {
        "id": "e_9X985xMKYP"
      },
      "execution_count": null,
      "outputs": []
    },
    {
      "cell_type": "markdown",
      "source": [
        "# Clear RAM"
      ],
      "metadata": {
        "id": "2m3JHnF5PgcO"
      }
    },
    {
      "cell_type": "code",
      "source": [
        "import gc\n",
        "\n",
        "del encoded, z # Delete unused variables\n",
        "gc.collect() # Collect garbage\n",
        "torch.cuda.empty_cache() # Clear cache\n",
        "print(torch.cuda.memory_summary())\n"
      ],
      "metadata": {
        "colab": {
          "base_uri": "https://localhost:8080/"
        },
        "id": "hi4-lApDPOX4",
        "outputId": "9a36376e-4ba1-42d8-d61d-6d4c6921f52a"
      },
      "execution_count": null,
      "outputs": [
        {
          "output_type": "stream",
          "name": "stdout",
          "text": [
            "|===========================================================================|\n",
            "|                  PyTorch CUDA memory summary, device ID 0                 |\n",
            "|---------------------------------------------------------------------------|\n",
            "|            CUDA OOMs: 1            |        cudaMalloc retries: 1         |\n",
            "|===========================================================================|\n",
            "|        Metric         | Cur Usage  | Peak Usage | Tot Alloc  | Tot Freed  |\n",
            "|---------------------------------------------------------------------------|\n",
            "| Allocated memory      |  34075 MiB |  36348 MiB |  65788 MiB |  31713 MiB |\n",
            "|       from large pool |  34051 MiB |  36324 MiB |  65762 MiB |  31710 MiB |\n",
            "|       from small pool |     23 MiB |     24 MiB |     26 MiB |      2 MiB |\n",
            "|---------------------------------------------------------------------------|\n",
            "| Active memory         |  34075 MiB |  36348 MiB |  65788 MiB |  31713 MiB |\n",
            "|       from large pool |  34051 MiB |  36324 MiB |  65762 MiB |  31710 MiB |\n",
            "|       from small pool |     23 MiB |     24 MiB |     26 MiB |      2 MiB |\n",
            "|---------------------------------------------------------------------------|\n",
            "| Requested memory      |  34011 MiB |  36283 MiB |  65721 MiB |  31710 MiB |\n",
            "|       from large pool |  33987 MiB |  36259 MiB |  65695 MiB |  31708 MiB |\n",
            "|       from small pool |     23 MiB |     24 MiB |     26 MiB |      2 MiB |\n",
            "|---------------------------------------------------------------------------|\n",
            "| GPU reserved memory   |  37772 MiB |  37772 MiB |  37772 MiB |      0 B   |\n",
            "|       from large pool |  37746 MiB |  37746 MiB |  37746 MiB |      0 B   |\n",
            "|       from small pool |     26 MiB |     26 MiB |     26 MiB |      0 B   |\n",
            "|---------------------------------------------------------------------------|\n",
            "| Non-releasable memory |   3696 MiB |   3696 MiB |  20057 MiB |  16361 MiB |\n",
            "|       from large pool |   3694 MiB |   3694 MiB |  20031 MiB |  16337 MiB |\n",
            "|       from small pool |      2 MiB |      2 MiB |     26 MiB |     24 MiB |\n",
            "|---------------------------------------------------------------------------|\n",
            "| Allocations           |     484    |     486    |     517    |      33    |\n",
            "|       from large pool |     197    |     199    |     224    |      27    |\n",
            "|       from small pool |     287    |     287    |     293    |       6    |\n",
            "|---------------------------------------------------------------------------|\n",
            "| Active allocs         |     484    |     486    |     517    |      33    |\n",
            "|       from large pool |     197    |     199    |     224    |      27    |\n",
            "|       from small pool |     287    |     287    |     293    |       6    |\n",
            "|---------------------------------------------------------------------------|\n",
            "| GPU reserved segments |     186    |     186    |     186    |       0    |\n",
            "|       from large pool |     173    |     173    |     173    |       0    |\n",
            "|       from small pool |      13    |      13    |      13    |       0    |\n",
            "|---------------------------------------------------------------------------|\n",
            "| Non-releasable allocs |      12    |      12    |      42    |      30    |\n",
            "|       from large pool |       8    |       8    |      24    |      16    |\n",
            "|       from small pool |       4    |       4    |      18    |      14    |\n",
            "|---------------------------------------------------------------------------|\n",
            "| Oversize allocations  |       0    |       0    |       0    |       0    |\n",
            "|---------------------------------------------------------------------------|\n",
            "| Oversize GPU segments |       0    |       0    |       0    |       0    |\n",
            "|===========================================================================|\n",
            "\n"
          ]
        }
      ]
    }
  ]
}